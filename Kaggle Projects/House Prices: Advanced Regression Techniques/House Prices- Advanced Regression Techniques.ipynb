{
 "cells": [
  {
   "cell_type": "markdown",
   "metadata": {},
   "source": [
    "## House Prices: Model Training\n",
    "\n",
    "### Multiple Linear Regression, Decision Tree, Random Forests, & Deep Neural Network\n",
    "\n",
    "- Given our cleaned & preprocessed data we will build 4 different models & evaluate them using k-fold cross validation with 15 folds \n",
    "\n",
    "- The best performing model will be chosen as our model of choice"
   ]
  },
  {
   "cell_type": "code",
   "execution_count": 1,
   "metadata": {},
   "outputs": [],
   "source": [
    "# Packages to import\n",
    "\n",
    "import numpy as np\n",
    "import pandas as pd\n",
    "from sklearn.linear_model import LinearRegression\n",
    "from sklearn.tree import DecisionTreeRegressor\n",
    "from sklearn import tree\n",
    "from sklearn.ensemble import RandomForestRegressor\n",
    "import tensorflow as tf\n",
    "from sklearn.metrics import mean_squared_error\n",
    "from tensorflow import keras\n",
    "from sklearn.model_selection import KFold\n",
    "import seaborn as sns\n",
    "import matplotlib.pyplot as plt\n",
    "from IPython.display import clear_output\n",
    "import tensorflow as tf\n",
    "from keras.models import Sequential\n",
    "from keras.layers import Dense\n",
    "from keras.optimizers import Adam\n",
    "from sklearn.metrics import r2_score"
   ]
  },
  {
   "cell_type": "code",
   "execution_count": 2,
   "metadata": {},
   "outputs": [],
   "source": [
    "# Importing data\n",
    "\n",
    "preprocessed_data= pd.read_csv(\"preprocessed_data.csv\")\n",
    "preprocessed_data=preprocessed_data.drop('Unnamed: 0',axis=1)"
   ]
  },
  {
   "cell_type": "code",
   "execution_count": 3,
   "metadata": {},
   "outputs": [
    {
     "data": {
      "text/html": [
       "<div>\n",
       "<style scoped>\n",
       "    .dataframe tbody tr th:only-of-type {\n",
       "        vertical-align: middle;\n",
       "    }\n",
       "\n",
       "    .dataframe tbody tr th {\n",
       "        vertical-align: top;\n",
       "    }\n",
       "\n",
       "    .dataframe thead th {\n",
       "        text-align: right;\n",
       "    }\n",
       "</style>\n",
       "<table border=\"1\" class=\"dataframe\">\n",
       "  <thead>\n",
       "    <tr style=\"text-align: right;\">\n",
       "      <th></th>\n",
       "      <th>MSSubClass</th>\n",
       "      <th>MSZoning=C (all)</th>\n",
       "      <th>MSZoning=FV</th>\n",
       "      <th>MSZoning=RH</th>\n",
       "      <th>MSZoning=RL</th>\n",
       "      <th>MSZoning=RM</th>\n",
       "      <th>LotFrontage</th>\n",
       "      <th>LotArea</th>\n",
       "      <th>Street=Grvl</th>\n",
       "      <th>Street=Pave</th>\n",
       "      <th>...</th>\n",
       "      <th>SaleType=New</th>\n",
       "      <th>SaleType=Oth</th>\n",
       "      <th>SaleType=WD</th>\n",
       "      <th>SaleCondition=Abnorml</th>\n",
       "      <th>SaleCondition=AdjLand</th>\n",
       "      <th>SaleCondition=Alloca</th>\n",
       "      <th>SaleCondition=Family</th>\n",
       "      <th>SaleCondition=Normal</th>\n",
       "      <th>SaleCondition=Partial</th>\n",
       "      <th>SalePrice</th>\n",
       "    </tr>\n",
       "  </thead>\n",
       "  <tbody>\n",
       "    <tr>\n",
       "      <th>0</th>\n",
       "      <td>60</td>\n",
       "      <td>0</td>\n",
       "      <td>0</td>\n",
       "      <td>0</td>\n",
       "      <td>1</td>\n",
       "      <td>0</td>\n",
       "      <td>65.0</td>\n",
       "      <td>8450</td>\n",
       "      <td>0</td>\n",
       "      <td>1</td>\n",
       "      <td>...</td>\n",
       "      <td>0</td>\n",
       "      <td>0</td>\n",
       "      <td>1</td>\n",
       "      <td>0</td>\n",
       "      <td>0</td>\n",
       "      <td>0</td>\n",
       "      <td>0</td>\n",
       "      <td>1</td>\n",
       "      <td>0</td>\n",
       "      <td>208500.0</td>\n",
       "    </tr>\n",
       "    <tr>\n",
       "      <th>1</th>\n",
       "      <td>20</td>\n",
       "      <td>0</td>\n",
       "      <td>0</td>\n",
       "      <td>0</td>\n",
       "      <td>1</td>\n",
       "      <td>0</td>\n",
       "      <td>80.0</td>\n",
       "      <td>9600</td>\n",
       "      <td>0</td>\n",
       "      <td>1</td>\n",
       "      <td>...</td>\n",
       "      <td>0</td>\n",
       "      <td>0</td>\n",
       "      <td>1</td>\n",
       "      <td>0</td>\n",
       "      <td>0</td>\n",
       "      <td>0</td>\n",
       "      <td>0</td>\n",
       "      <td>1</td>\n",
       "      <td>0</td>\n",
       "      <td>181500.0</td>\n",
       "    </tr>\n",
       "    <tr>\n",
       "      <th>2</th>\n",
       "      <td>60</td>\n",
       "      <td>0</td>\n",
       "      <td>0</td>\n",
       "      <td>0</td>\n",
       "      <td>1</td>\n",
       "      <td>0</td>\n",
       "      <td>68.0</td>\n",
       "      <td>11250</td>\n",
       "      <td>0</td>\n",
       "      <td>1</td>\n",
       "      <td>...</td>\n",
       "      <td>0</td>\n",
       "      <td>0</td>\n",
       "      <td>1</td>\n",
       "      <td>0</td>\n",
       "      <td>0</td>\n",
       "      <td>0</td>\n",
       "      <td>0</td>\n",
       "      <td>1</td>\n",
       "      <td>0</td>\n",
       "      <td>223500.0</td>\n",
       "    </tr>\n",
       "    <tr>\n",
       "      <th>3</th>\n",
       "      <td>70</td>\n",
       "      <td>0</td>\n",
       "      <td>0</td>\n",
       "      <td>0</td>\n",
       "      <td>1</td>\n",
       "      <td>0</td>\n",
       "      <td>60.0</td>\n",
       "      <td>9550</td>\n",
       "      <td>0</td>\n",
       "      <td>1</td>\n",
       "      <td>...</td>\n",
       "      <td>0</td>\n",
       "      <td>0</td>\n",
       "      <td>1</td>\n",
       "      <td>1</td>\n",
       "      <td>0</td>\n",
       "      <td>0</td>\n",
       "      <td>0</td>\n",
       "      <td>0</td>\n",
       "      <td>0</td>\n",
       "      <td>140000.0</td>\n",
       "    </tr>\n",
       "    <tr>\n",
       "      <th>4</th>\n",
       "      <td>60</td>\n",
       "      <td>0</td>\n",
       "      <td>0</td>\n",
       "      <td>0</td>\n",
       "      <td>1</td>\n",
       "      <td>0</td>\n",
       "      <td>84.0</td>\n",
       "      <td>14260</td>\n",
       "      <td>0</td>\n",
       "      <td>1</td>\n",
       "      <td>...</td>\n",
       "      <td>0</td>\n",
       "      <td>0</td>\n",
       "      <td>1</td>\n",
       "      <td>0</td>\n",
       "      <td>0</td>\n",
       "      <td>0</td>\n",
       "      <td>0</td>\n",
       "      <td>1</td>\n",
       "      <td>0</td>\n",
       "      <td>250000.0</td>\n",
       "    </tr>\n",
       "  </tbody>\n",
       "</table>\n",
       "<p>5 rows × 224 columns</p>\n",
       "</div>"
      ],
      "text/plain": [
       "   MSSubClass  MSZoning=C (all)  MSZoning=FV  MSZoning=RH  MSZoning=RL  \\\n",
       "0          60                 0            0            0            1   \n",
       "1          20                 0            0            0            1   \n",
       "2          60                 0            0            0            1   \n",
       "3          70                 0            0            0            1   \n",
       "4          60                 0            0            0            1   \n",
       "\n",
       "   MSZoning=RM  LotFrontage  LotArea  Street=Grvl  Street=Pave  ...  \\\n",
       "0            0         65.0     8450            0            1  ...   \n",
       "1            0         80.0     9600            0            1  ...   \n",
       "2            0         68.0    11250            0            1  ...   \n",
       "3            0         60.0     9550            0            1  ...   \n",
       "4            0         84.0    14260            0            1  ...   \n",
       "\n",
       "   SaleType=New  SaleType=Oth  SaleType=WD  SaleCondition=Abnorml  \\\n",
       "0             0             0            1                      0   \n",
       "1             0             0            1                      0   \n",
       "2             0             0            1                      0   \n",
       "3             0             0            1                      1   \n",
       "4             0             0            1                      0   \n",
       "\n",
       "   SaleCondition=AdjLand  SaleCondition=Alloca  SaleCondition=Family  \\\n",
       "0                      0                     0                     0   \n",
       "1                      0                     0                     0   \n",
       "2                      0                     0                     0   \n",
       "3                      0                     0                     0   \n",
       "4                      0                     0                     0   \n",
       "\n",
       "   SaleCondition=Normal  SaleCondition=Partial  SalePrice  \n",
       "0                     1                      0   208500.0  \n",
       "1                     1                      0   181500.0  \n",
       "2                     1                      0   223500.0  \n",
       "3                     0                      0   140000.0  \n",
       "4                     1                      0   250000.0  \n",
       "\n",
       "[5 rows x 224 columns]"
      ]
     },
     "execution_count": 3,
     "metadata": {},
     "output_type": "execute_result"
    }
   ],
   "source": [
    "preprocessed_data.head()"
   ]
  },
  {
   "cell_type": "code",
   "execution_count": 4,
   "metadata": {},
   "outputs": [
    {
     "data": {
      "text/html": [
       "<div>\n",
       "<style scoped>\n",
       "    .dataframe tbody tr th:only-of-type {\n",
       "        vertical-align: middle;\n",
       "    }\n",
       "\n",
       "    .dataframe tbody tr th {\n",
       "        vertical-align: top;\n",
       "    }\n",
       "\n",
       "    .dataframe thead th {\n",
       "        text-align: right;\n",
       "    }\n",
       "</style>\n",
       "<table border=\"1\" class=\"dataframe\">\n",
       "  <thead>\n",
       "    <tr style=\"text-align: right;\">\n",
       "      <th></th>\n",
       "      <th>MSSubClass</th>\n",
       "      <th>MSZoning=C (all)</th>\n",
       "      <th>MSZoning=FV</th>\n",
       "      <th>MSZoning=RH</th>\n",
       "      <th>MSZoning=RL</th>\n",
       "      <th>MSZoning=RM</th>\n",
       "      <th>LotFrontage</th>\n",
       "      <th>LotArea</th>\n",
       "      <th>Street=Grvl</th>\n",
       "      <th>Street=Pave</th>\n",
       "      <th>...</th>\n",
       "      <th>SaleType=New</th>\n",
       "      <th>SaleType=Oth</th>\n",
       "      <th>SaleType=WD</th>\n",
       "      <th>SaleCondition=Abnorml</th>\n",
       "      <th>SaleCondition=AdjLand</th>\n",
       "      <th>SaleCondition=Alloca</th>\n",
       "      <th>SaleCondition=Family</th>\n",
       "      <th>SaleCondition=Normal</th>\n",
       "      <th>SaleCondition=Partial</th>\n",
       "      <th>SalePrice</th>\n",
       "    </tr>\n",
       "  </thead>\n",
       "  <tbody>\n",
       "    <tr>\n",
       "      <th>0</th>\n",
       "      <td>160</td>\n",
       "      <td>0</td>\n",
       "      <td>0</td>\n",
       "      <td>0</td>\n",
       "      <td>0</td>\n",
       "      <td>1</td>\n",
       "      <td>21.0</td>\n",
       "      <td>1680</td>\n",
       "      <td>0</td>\n",
       "      <td>1</td>\n",
       "      <td>...</td>\n",
       "      <td>0</td>\n",
       "      <td>0</td>\n",
       "      <td>0</td>\n",
       "      <td>1</td>\n",
       "      <td>0</td>\n",
       "      <td>0</td>\n",
       "      <td>0</td>\n",
       "      <td>0</td>\n",
       "      <td>0</td>\n",
       "      <td>112000.0</td>\n",
       "    </tr>\n",
       "    <tr>\n",
       "      <th>1</th>\n",
       "      <td>50</td>\n",
       "      <td>0</td>\n",
       "      <td>0</td>\n",
       "      <td>0</td>\n",
       "      <td>1</td>\n",
       "      <td>0</td>\n",
       "      <td>59.0</td>\n",
       "      <td>16466</td>\n",
       "      <td>0</td>\n",
       "      <td>1</td>\n",
       "      <td>...</td>\n",
       "      <td>0</td>\n",
       "      <td>0</td>\n",
       "      <td>1</td>\n",
       "      <td>0</td>\n",
       "      <td>0</td>\n",
       "      <td>0</td>\n",
       "      <td>0</td>\n",
       "      <td>1</td>\n",
       "      <td>0</td>\n",
       "      <td>135500.0</td>\n",
       "    </tr>\n",
       "    <tr>\n",
       "      <th>2</th>\n",
       "      <td>60</td>\n",
       "      <td>0</td>\n",
       "      <td>0</td>\n",
       "      <td>0</td>\n",
       "      <td>1</td>\n",
       "      <td>0</td>\n",
       "      <td>68.0</td>\n",
       "      <td>8935</td>\n",
       "      <td>0</td>\n",
       "      <td>1</td>\n",
       "      <td>...</td>\n",
       "      <td>0</td>\n",
       "      <td>0</td>\n",
       "      <td>1</td>\n",
       "      <td>0</td>\n",
       "      <td>0</td>\n",
       "      <td>0</td>\n",
       "      <td>0</td>\n",
       "      <td>1</td>\n",
       "      <td>0</td>\n",
       "      <td>195000.0</td>\n",
       "    </tr>\n",
       "    <tr>\n",
       "      <th>3</th>\n",
       "      <td>90</td>\n",
       "      <td>0</td>\n",
       "      <td>0</td>\n",
       "      <td>0</td>\n",
       "      <td>1</td>\n",
       "      <td>0</td>\n",
       "      <td>60.0</td>\n",
       "      <td>7200</td>\n",
       "      <td>0</td>\n",
       "      <td>1</td>\n",
       "      <td>...</td>\n",
       "      <td>0</td>\n",
       "      <td>0</td>\n",
       "      <td>1</td>\n",
       "      <td>0</td>\n",
       "      <td>0</td>\n",
       "      <td>0</td>\n",
       "      <td>0</td>\n",
       "      <td>1</td>\n",
       "      <td>0</td>\n",
       "      <td>90000.0</td>\n",
       "    </tr>\n",
       "    <tr>\n",
       "      <th>4</th>\n",
       "      <td>160</td>\n",
       "      <td>0</td>\n",
       "      <td>0</td>\n",
       "      <td>0</td>\n",
       "      <td>1</td>\n",
       "      <td>0</td>\n",
       "      <td>75.0</td>\n",
       "      <td>10762</td>\n",
       "      <td>0</td>\n",
       "      <td>1</td>\n",
       "      <td>...</td>\n",
       "      <td>0</td>\n",
       "      <td>0</td>\n",
       "      <td>1</td>\n",
       "      <td>0</td>\n",
       "      <td>0</td>\n",
       "      <td>0</td>\n",
       "      <td>0</td>\n",
       "      <td>1</td>\n",
       "      <td>0</td>\n",
       "      <td>120000.0</td>\n",
       "    </tr>\n",
       "  </tbody>\n",
       "</table>\n",
       "<p>5 rows × 224 columns</p>\n",
       "</div>"
      ],
      "text/plain": [
       "   MSSubClass  MSZoning=C (all)  MSZoning=FV  MSZoning=RH  MSZoning=RL  \\\n",
       "0         160                 0            0            0            0   \n",
       "1          50                 0            0            0            1   \n",
       "2          60                 0            0            0            1   \n",
       "3          90                 0            0            0            1   \n",
       "4         160                 0            0            0            1   \n",
       "\n",
       "   MSZoning=RM  LotFrontage  LotArea  Street=Grvl  Street=Pave  ...  \\\n",
       "0            1         21.0     1680            0            1  ...   \n",
       "1            0         59.0    16466            0            1  ...   \n",
       "2            0         68.0     8935            0            1  ...   \n",
       "3            0         60.0     7200            0            1  ...   \n",
       "4            0         75.0    10762            0            1  ...   \n",
       "\n",
       "   SaleType=New  SaleType=Oth  SaleType=WD  SaleCondition=Abnorml  \\\n",
       "0             0             0            0                      1   \n",
       "1             0             0            1                      0   \n",
       "2             0             0            1                      0   \n",
       "3             0             0            1                      0   \n",
       "4             0             0            1                      0   \n",
       "\n",
       "   SaleCondition=AdjLand  SaleCondition=Alloca  SaleCondition=Family  \\\n",
       "0                      0                     0                     0   \n",
       "1                      0                     0                     0   \n",
       "2                      0                     0                     0   \n",
       "3                      0                     0                     0   \n",
       "4                      0                     0                     0   \n",
       "\n",
       "   SaleCondition=Normal  SaleCondition=Partial  SalePrice  \n",
       "0                     0                      0   112000.0  \n",
       "1                     1                      0   135500.0  \n",
       "2                     1                      0   195000.0  \n",
       "3                     1                      0    90000.0  \n",
       "4                     1                      0   120000.0  \n",
       "\n",
       "[5 rows x 224 columns]"
      ]
     },
     "execution_count": 4,
     "metadata": {},
     "output_type": "execute_result"
    }
   ],
   "source": [
    "# Shuffling data\n",
    "\n",
    "preprocessed_data = preprocessed_data.sample(frac=1).reset_index(drop=True)\n",
    "preprocessed_data.head()"
   ]
  },
  {
   "cell_type": "code",
   "execution_count": 5,
   "metadata": {},
   "outputs": [],
   "source": [
    "# Seperating predictors from response\n",
    "\n",
    "X=preprocessed_data.drop('SalePrice',axis=1)\n",
    "y=preprocessed_data['SalePrice']"
   ]
  },
  {
   "cell_type": "code",
   "execution_count": 9,
   "metadata": {},
   "outputs": [],
   "source": [
    "# Lists to hold model residuals when tested\n",
    "\n",
    "mlr_residuals=[]\n",
    "dstree_residuals=[]\n",
    "randomforest_residuals=[]\n",
    "\n",
    "# Functions to pass onto k folds\n",
    "\n",
    "def get_mse(model,X_train,X_test,y_train,y_test,residual=None):\n",
    "    \n",
    "    model.fit(X_train,y_train)\n",
    "    \n",
    "    if residual==\"mlr\":\n",
    "        mlr_residuals.append((model.predict(X_test)-y_test).values.tolist())\n",
    "        \n",
    "    if residual==\"dstree\":\n",
    "        dstree_residuals.append((model.predict(X_test)-y_test).values.tolist())\n",
    "        \n",
    "    if residual==\"randomforest\":\n",
    "        randomforest_residuals.append((model.predict(X_test)-y_test).values.tolist())\n",
    "\n",
    "        \n",
    "\n",
    "    return mean_squared_error(model.predict(X_test),y_test)\n",
    "\n",
    "def get_score(model,X_train,X_test,y_train,y_test):\n",
    "    \n",
    "    model.fit(X_train,y_train)\n",
    "    return model.score(X_test,y_test)"
   ]
  },
  {
   "cell_type": "code",
   "execution_count": 10,
   "metadata": {},
   "outputs": [],
   "source": [
    "# Defining k=15 for cross validation\n",
    "\n",
    "kf=KFold(n_splits=15)"
   ]
  },
  {
   "cell_type": "markdown",
   "metadata": {},
   "source": [
    "## Choosing Hyperpatameters: Decision Tree"
   ]
  },
  {
   "cell_type": "code",
   "execution_count": 13,
   "metadata": {},
   "outputs": [
    {
     "name": "stdout",
     "output_type": "stream",
     "text": [
      "done\n"
     ]
    }
   ],
   "source": [
    "# List to keep track of testing data score for hyperparameters\n",
    "\n",
    "score_dstree_hyperparameter=[]\n",
    "\n",
    "# List of Hyperparameters\n",
    "hyperparameters=list(range(1, 500))\n",
    "\n",
    "for i in (hyperparameters):\n",
    "\n",
    "\n",
    "    print(i)\n",
    "    \n",
    "    scores=[]\n",
    "    \n",
    "    for train,test in kf.split(X):\n",
    "        X_train,X_test,y_train,y_test=X.iloc[train],X.iloc[test],y.iloc[train],y.iloc[test]\n",
    "    \n",
    "        scores.append(get_score(DecisionTreeRegressor(max_depth=i),X_train,X_test,y_train,y_test))\n",
    "    \n",
    "    score_dstree_hyperparameter.append(sum(scores)/len(scores))\n",
    "    \n",
    "\n",
    "clear_output(wait=True)  \n",
    "        \n",
    "print(\"done\")"
   ]
  },
  {
   "cell_type": "markdown",
   "metadata": {},
   "source": [
    "### Hyperparameter Plot : Decision Trees"
   ]
  },
  {
   "cell_type": "code",
   "execution_count": 15,
   "metadata": {},
   "outputs": [
    {
     "data": {
      "image/png": "[encoded data removed]",
      "text/plain": [
       "<Figure size 432x288 with 1 Axes>"
      ]
     },
     "metadata": {
      "needs_background": "light"
     },
     "output_type": "display_data"
    },
    {
     "name": "stdout",
     "output_type": "stream",
     "text": [
      "Best Hyperparameter for Decision Trees is 398 with value of 0.7628868063964286\n"
     ]
    }
   ],
   "source": [
    "plt.plot(score_dstree_hyperparameter)\n",
    "plt.show()\n",
    "\n",
    "print(\"Best Hyperparameter for Decision Trees is {} with value of {}\".format(hyperparameters[score_dstree_hyperparameter.index(max(score_dstree_hyperparameter))],max(score_dstree_hyperparameter)))\n"
   ]
  },
  {
   "cell_type": "markdown",
   "metadata": {},
   "source": [
    "## Choosing Hyperpatameters: Random Forests"
   ]
  },
  {
   "cell_type": "code",
   "execution_count": 16,
   "metadata": {},
   "outputs": [
    {
     "name": "stdout",
     "output_type": "stream",
     "text": [
      "done\n"
     ]
    }
   ],
   "source": [
    "# List to keep track of testing data score for hyperparameters\n",
    "\n",
    "score_randomForest_hyperparameter=[]\n",
    "\n",
    "# List of Hyperparameters\n",
    "\n",
    "hyperparameters=list(range(1, 1000,100))\n",
    "\n",
    "\n",
    "for i in(hyperparameters):\n",
    "    \n",
    "    print(i)\n",
    "    \n",
    "    scores=[]\n",
    "    for train,test in kf.split(X,y):\n",
    "        X_train,X_test,y_train,y_test=X.iloc[train],X.iloc[test],y.iloc[train],y.iloc[test]\n",
    "    \n",
    "    \n",
    "        scores.append(get_score(RandomForestRegressor(n_estimators=i),X_train,X_test,y_train,y_test))\n",
    "    \n",
    "    score_randomForest_hyperparameter.append(sum(scores)/len(scores))\n",
    "    \n",
    "clear_output(wait=True)      \n",
    "print(\"done\")\n",
    "       \n"
   ]
  },
  {
   "cell_type": "markdown",
   "metadata": {},
   "source": [
    "### Hyperparameter Plot : Random Forests"
   ]
  },
  {
   "cell_type": "code",
   "execution_count": 19,
   "metadata": {},
   "outputs": [
    {
     "data": {
      "image/png": "[encoded data removed]",
      "text/plain": [
       "<Figure size 432x288 with 1 Axes>"
      ]
     },
     "metadata": {
      "needs_background": "light"
     },
     "output_type": "display_data"
    },
    {
     "name": "stdout",
     "output_type": "stream",
     "text": [
      "Best Hyperparameter for Random Forest is 601 with value of 0.8617484885919687\n"
     ]
    }
   ],
   "source": [
    "plt.plot(score_randomForest_hyperparameter)\n",
    "plt.show()\n",
    "\n",
    "\n",
    "print(\"Best Hyperparameter for Random Forest is {} with value of {}\".format(hyperparameters[score_randomForest_hyperparameter.index(max(score_randomForest_hyperparameter))],max(score_randomForest_hyperparameter)))"
   ]
  },
  {
   "cell_type": "markdown",
   "metadata": {},
   "source": [
    "## Running 15-Fold Cross Validation for 3 Models-(MLR, Decision Tree, Random Forests) with hyperparameters chosen from above\n",
    "\n",
    "### Models will be trained and tested, scores for tests will be saved, as well as residuals on predictions on testing data"
   ]
  },
  {
   "cell_type": "code",
   "execution_count": 11,
   "metadata": {},
   "outputs": [
    {
     "name": "stdout",
     "output_type": "stream",
     "text": [
      "done\n"
     ]
    }
   ],
   "source": [
    "score_regression=[]\n",
    "score_dstree=[]\n",
    "score_randomForest=[]\n",
    "\n",
    "mse_regression=[]\n",
    "mse_dstree=[]\n",
    "mse_randomForest=[]\n",
    "\n",
    "score_randomForest_hyperparameter=[]\n",
    "\n",
    "\n",
    "for iterations in range(1,5):\n",
    "    print(iterations)\n",
    "    preprocessed_data = preprocessed_data.sample(frac=1).reset_index(drop=True)\n",
    "    X=preprocessed_data.drop('SalePrice',axis=1)\n",
    "    y=preprocessed_data['SalePrice']\n",
    "    \n",
    "    for train,test in kf.split(X):\n",
    "        X_train,X_test,y_train,y_test=X.iloc[train],X.iloc[test],y.iloc[train],y.iloc[test]\n",
    "    \n",
    "        score_regression.append(get_score(LinearRegression(),X_train,X_test,y_train,y_test))\n",
    "        mse_regression.append(get_mse(LinearRegression(),X_train,X_test,y_train,y_test,residual=\"mlr\"))\n",
    "    \n",
    "        score_dstree.append(get_score(DecisionTreeRegressor(max_depth=398),X_train,X_test,y_train,y_test))\n",
    "        mse_dstree.append(get_mse(DecisionTreeRegressor(max_depth=398),X_train,X_test,y_train,y_test,residual=\"dstree\"))\n",
    "\n",
    "        score_randomForest.append(get_score(RandomForestRegressor(n_estimators=601),X_train,X_test,y_train,y_test))\n",
    "        mse_randomForest.append(get_mse(RandomForestRegressor(n_estimators=601),X_train,X_test,y_train,y_test,residual=\"randomforest\"))\n",
    "\n",
    "clear_output(wait=True) \n",
    "mlr_residuals = [item for sublist in mlr_residuals for item in sublist]\n",
    "dstree_residuals = [item for sublist in dstree_residuals for item in sublist]\n",
    "randomforest_residuals = [item for sublist in randomforest_residuals for item in sublist]\n",
    "\n",
    "print(\"done\")"
   ]
  },
  {
   "cell_type": "markdown",
   "metadata": {},
   "source": [
    "## Model Evaluation: Multiple Linear Regression"
   ]
  },
  {
   "cell_type": "code",
   "execution_count": 12,
   "metadata": {},
   "outputs": [
    {
     "data": {
      "text/plain": [
       "Text(0.5, 0, 'Residual')"
      ]
     },
     "execution_count": 12,
     "metadata": {},
     "output_type": "execute_result"
    },
    {
     "data": {
      "image/png": "[encoded data removed]",
      "text/plain": [
       "<Figure size 432x288 with 1 Axes>"
      ]
     },
     "metadata": {
      "needs_background": "light"
     },
     "output_type": "display_data"
    }
   ],
   "source": [
    "plot=sns.distplot(mlr_residuals,bins=150)\n",
    "plot.set_title('Multiple Linear Regression - Resisual Plot')\n",
    "plot.set_ylabel('Frequency')\n",
    "plot.set_xlabel('Residual')\n",
    "\n"
   ]
  },
  {
   "cell_type": "code",
   "execution_count": 13,
   "metadata": {},
   "outputs": [
    {
     "name": "stdout",
     "output_type": "stream",
     "text": [
      "Mean R2 Score: 0.8320604011851371\n",
      "Mean Residual: 524866465.2638822\n"
     ]
    },
    {
     "data": {
      "image/png": "[encoded data removed]",
      "text/plain": [
       "<Figure size 432x288 with 1 Axes>"
      ]
     },
     "metadata": {
      "needs_background": "light"
     },
     "output_type": "display_data"
    }
   ],
   "source": [
    "score_regression = [i for i in score_regression if i > 0]\n",
    "\n",
    "print(\"Mean R2 Score: {}\".format(sum(score_regression)/len(score_regression)))\n",
    "print(\"Mean Residual: {}\".format(np.sqrt(mse_regression).mean()))\n",
    "\n",
    "plt.hist(score_regression,bins=len(score_regression))\n",
    "plt.title(\"Multiple Linear Regression- Model Score Distribution \")\n",
    "plt.show()"
   ]
  },
  {
   "cell_type": "markdown",
   "metadata": {},
   "source": [
    "### Observations:\n",
    "\n",
    "* Residual Plot follows a Normal Distribution, however some of the values seem to be exploding which may indicate a problem with the intercept bias term (more investigation will be required)\n",
    "\n",
    "* R^2 Score is an average of 0.83 which indicates a fairly well performing model\n",
    "\n",
    "* This is a fair model if we ignore the exploding values, but other more flexible more can performe slightly better"
   ]
  },
  {
   "cell_type": "markdown",
   "metadata": {},
   "source": [
    "## Model Evaluation: Decision Tree"
   ]
  },
  {
   "cell_type": "code",
   "execution_count": 23,
   "metadata": {},
   "outputs": [
    {
     "data": {
      "text/plain": [
       "Text(0.5, 0, 'Residual')"
      ]
     },
     "execution_count": 23,
     "metadata": {},
     "output_type": "execute_result"
    },
    {
     "data": {
      "image/png": "[encoded data removed]",
      "text/plain": [
       "<Figure size 432x288 with 1 Axes>"
      ]
     },
     "metadata": {
      "needs_background": "light"
     },
     "output_type": "display_data"
    }
   ],
   "source": [
    "plot=sns.distplot(dstree_residuals,bins=150)\n",
    "plot.set_title('Decision Tree - Residual Plot')\n",
    "plot.set_ylabel('Frequency')\n",
    "plot.set_xlabel('Residual')\n"
   ]
  },
  {
   "cell_type": "code",
   "execution_count": 43,
   "metadata": {},
   "outputs": [
    {
     "name": "stdout",
     "output_type": "stream",
     "text": [
      "Mean R2 Score: 0.7251633273054522\n",
      "Mean Residual: 38818.65632527293\n"
     ]
    },
    {
     "data": {
      "image/png": "[encoded data removed]",
      "text/plain": [
       "<Figure size 432x288 with 1 Axes>"
      ]
     },
     "metadata": {
      "needs_background": "light"
     },
     "output_type": "display_data"
    }
   ],
   "source": [
    "print(\"Mean R2 Score: {}\".format(sum(score_dstree)/len(score_dstree)))\n",
    "print(\"Mean Residual: {}\".format(np.sqrt(mse_dstree).mean()))\n",
    "\n",
    "plt.hist(score_dstree,bins=len(score_dstree))\n",
    "plt.title(\"Decision Tree - Model Score Distribution \")\n",
    "plt.show()"
   ]
  },
  {
   "cell_type": "markdown",
   "metadata": {},
   "source": [
    "### Observations:\n",
    "\n",
    "* Residual Plot follows a Normal Distribution with mean 0, indicating our model captured the variability in our target variable properly\n",
    "\n",
    "* R^2 Score is the lowest with a value of 0.72, room for improvement is required\n",
    "\n",
    "* Distribution of Scores show that model fails to acheive high R^2 score of over .90 indicating poor model"
   ]
  },
  {
   "cell_type": "markdown",
   "metadata": {},
   "source": [
    "## Model Evaluation: Random Forests"
   ]
  },
  {
   "cell_type": "code",
   "execution_count": 25,
   "metadata": {},
   "outputs": [
    {
     "data": {
      "text/plain": [
       "Text(0.5, 0, 'Residual')"
      ]
     },
     "execution_count": 25,
     "metadata": {},
     "output_type": "execute_result"
    },
    {
     "data": {
      "image/png": "[encoded data removed]",
      "text/plain": [
       "<Figure size 432x288 with 1 Axes>"
      ]
     },
     "metadata": {
      "needs_background": "light"
     },
     "output_type": "display_data"
    }
   ],
   "source": [
    "plot=sns.distplot(randomforest_residuals,bins=150)\n",
    "plot.set_title('Random Forest - Residual Plot')\n",
    "plot.set_ylabel('Frequency')\n",
    "plot.set_xlabel('Residual')"
   ]
  },
  {
   "cell_type": "code",
   "execution_count": 44,
   "metadata": {},
   "outputs": [
    {
     "name": "stdout",
     "output_type": "stream",
     "text": [
      "Mean R2 Score: 0.8594250257181076\n",
      "Mean Residual: 28636.826464613438\n"
     ]
    },
    {
     "data": {
      "image/png": "[encoded data removed]",
      "text/plain": [
       "<Figure size 432x288 with 1 Axes>"
      ]
     },
     "metadata": {
      "needs_background": "light"
     },
     "output_type": "display_data"
    }
   ],
   "source": [
    "print(\"Mean R2 Score: {}\".format(sum(score_randomForest)/len(score_randomForest)))\n",
    "print(\"Mean Residual: {}\".format(np.sqrt(mse_randomForest).mean()))\n",
    "\n",
    "plt.hist(score_randomForest,bins=len(score_randomForest))\n",
    "plt.title(\"Random Forest - Model Score Distribution \")\n",
    "plt.show()"
   ]
  },
  {
   "cell_type": "markdown",
   "metadata": {},
   "source": [
    "### Observations:\n",
    "\n",
    "* Residual Plot follows a Normal Distribution with mean 0, indicating our model captured the variability in our target variable properly\n",
    "\n",
    "* Average R^2 Score is very high with value of ≈ 0.86, highest score among all models\n",
    "\n",
    "* Distribution of score are relatively high, peaks being around 0.9, and some small instances of low score(may indicate biased testing set)\n"
   ]
  },
  {
   "cell_type": "markdown",
   "metadata": {},
   "source": [
    "## Deep Neural Network\n",
    "\n",
    "#### We will build a Deep Neural Network with the following specifications\n",
    "\n",
    "* 2 hidden layers with 150 neurons & RELU activation functions\n",
    "* 2 hidden layers with 100 neurons & RELU activation functions\n",
    "* 3 hidden layers with 75 neurons & RELU activation functions\n",
    "* 3 hidden layers with 50 neurons & RELU activation functions\n",
    "* 1 hidden layer with 10 neurons & RELU activation functions\n",
    "* output layer\n"
   ]
  },
  {
   "cell_type": "code",
   "execution_count": 33,
   "metadata": {},
   "outputs": [
    {
     "name": "stdout",
     "output_type": "stream",
     "text": [
      "done\n"
     ]
    }
   ],
   "source": [
    "residuals=[]\n",
    "\n",
    "errors_training=[]\n",
    "errors_testing=[]\n",
    "\n",
    "\n",
    "\n",
    "for iteration in range(1,5):\n",
    "    count=0\n",
    "    preprocessed_data = preprocessed_data.sample(frac=1).reset_index(drop=True)\n",
    "    X=preprocessed_data.drop('SalePrice',axis=1)\n",
    "    y=preprocessed_data['SalePrice']\n",
    "    \n",
    "    for train,test in kf.split(X):\n",
    "        print(\"Iteration number {} for Training no. {}\".format(count,iteration))\n",
    "        X_train,X_test,y_train,y_test=X.iloc[train],X.iloc[test],y.iloc[train],y.iloc[test]\n",
    "    \n",
    "        model=Sequential()\n",
    "        model.add(Dense(150,input_shape=X_train.shape[1:],activation=\"relu\"))\n",
    "        model.add(Dense(150,activation=\"relu\"))\n",
    "        model.add(Dense(100,activation=\"relu\"))\n",
    "        model.add(Dense(100,activation=\"relu\"))\n",
    "        model.add(Dense(75,activation=\"relu\"))\n",
    "        model.add(Dense(75,activation=\"relu\"))\n",
    "        model.add(Dense(75,activation=\"relu\"))\n",
    "        model.add(Dense(50,activation=\"relu\"))\n",
    "        model.add(Dense(50,activation=\"relu\"))\n",
    "        model.add(Dense(50,activation=\"relu\"))\n",
    "        model.add(Dense(10,activation=\"relu\"))\n",
    "        model.add(Dense(1,))\n",
    "        model.compile(Adam(lr=0.005),\"mean_squared_error\")\n",
    "    \n",
    "        history=model.fit(X_train,y_train,epochs=500,validation_split=0.3,verbose=1)\n",
    "        clear_output(wait=True) \n",
    "    \n",
    "        y_train_pred=model.predict(X_train)\n",
    "        y_test_pred=model.predict(X_test)\n",
    "    \n",
    "        for i in range(0,97):\n",
    "            len(y_test_pred)\n",
    "            residuals.append(y_test.values[i]-(y_test_pred)[i][0])\n",
    "    \n",
    "    \n",
    "        errors_training.append(r2_score(y_train,y_train_pred))\n",
    "    \n",
    "    \n",
    "        errors_testing.append(r2_score(y_test,y_test_pred))\n",
    "    \n",
    "        count=count+1\n",
    "    \n",
    "        \n",
    "clear_output(wait=True) \n",
    "\n",
    "print(\"done\")"
   ]
  },
  {
   "cell_type": "code",
   "execution_count": 45,
   "metadata": {},
   "outputs": [],
   "source": [
    "errors_testing = [i for i in errors_testing if i > 0]\n",
    "errors_training = [i for i in errors_training if i > 0]"
   ]
  },
  {
   "cell_type": "markdown",
   "metadata": {},
   "source": [
    "## Model Evaluation: Deep Neural Network"
   ]
  },
  {
   "cell_type": "code",
   "execution_count": 35,
   "metadata": {},
   "outputs": [
    {
     "data": {
      "text/plain": [
       "Text(0.5, 0, 'Residual')"
      ]
     },
     "execution_count": 35,
     "metadata": {},
     "output_type": "execute_result"
    },
    {
     "data": {
      "image/png": "[encoded data removed]",
      "text/plain": [
       "<Figure size 432x288 with 1 Axes>"
      ]
     },
     "metadata": {
      "needs_background": "light"
     },
     "output_type": "display_data"
    }
   ],
   "source": [
    "\n",
    "plot=sns.distplot(residuals,bins=150)\n",
    "plot.set_title('Deep Neural Network - Residual Plot')\n",
    "plot.set_ylabel('Frequency')\n",
    "plot.set_xlabel('Residual')"
   ]
  },
  {
   "cell_type": "code",
   "execution_count": 48,
   "metadata": {},
   "outputs": [
    {
     "name": "stdout",
     "output_type": "stream",
     "text": [
      "Mean R2 Score(Training): 0.9061974816025521\n",
      "Mean R2 Score(Testing): 0.8429433304106878\n"
     ]
    },
    {
     "data": {
      "image/png": "[encoded data removed]",
      "text/plain": [
       "<Figure size 432x288 with 1 Axes>"
      ]
     },
     "metadata": {
      "needs_background": "light"
     },
     "output_type": "display_data"
    }
   ],
   "source": [
    "\n",
    "print(\"Mean R2 Score(Training): {}\".format(sum(errors_training)/len(errors_training)))\n",
    "print(\"Mean R2 Score(Testing): {}\".format(sum(errors_testing)/len(errors_testing)))\n",
    "\n",
    "plt.hist(errors_testing,bins=len(errors_testing))\n",
    "plt.title(\"Deep Neural Network - Model Score Distribution \")\n",
    "plt.show()"
   ]
  },
  {
   "cell_type": "markdown",
   "metadata": {},
   "source": [
    "## Observations\n",
    "\n",
    "* Residual Plot follows a Normal Distribution, however some of the values seem to be exploding(which have been removed from the plot) which may indicate a problem with the intercept bias term (more investigation will be required)\n",
    "\n",
    "* R^2 Scores are relatively high, with average score of 0.84 however the Score Distribution would suggest that only an outlier case of low score caused a value of 0.84 othwerwise it would be higher\n",
    "\n",
    "* Score Distribution indicates that 95% of instances had score over 0.7\n",
    "\n",
    "* This would be the best model had it not been for the exploding values"
   ]
  },
  {
   "cell_type": "markdown",
   "metadata": {},
   "source": [
    "## Conclusions\n",
    "\n",
    "#### Model Performance Summaries:\n",
    "\n",
    "* Multiple Linear Regression: 0.83\n",
    "* Decision Tree: 0.72\n",
    "* Random Forets: 0.86\n",
    "* Deep Neural Network: 0.84\n",
    "\n",
    "\n"
   ]
  },
  {
   "cell_type": "markdown",
   "metadata": {},
   "source": [
    "Our predictive model of choice was Random Forests which outperformed all the other models, Multiple Linear Regression & Deep Neural Networks came in second"
   ]
  }
 ],
 "metadata": {
  "kernelspec": {
   "display_name": "Python 3",
   "language": "python",
   "name": "python3"
  },
  "language_info": {
   "codemirror_mode": {
    "name": "ipython",
    "version": 3
   },
   "file_extension": ".py",
   "mimetype": "text/x-python",
   "name": "python",
   "nbconvert_exporter": "python",
   "pygments_lexer": "ipython3",
   "version": "3.6.0"
  }
 },
 "nbformat": 4,
 "nbformat_minor": 2
}
